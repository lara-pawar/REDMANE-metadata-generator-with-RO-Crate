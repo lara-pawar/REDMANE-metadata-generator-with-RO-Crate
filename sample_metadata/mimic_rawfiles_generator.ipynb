{
 "cells": [
  {
   "cell_type": "markdown",
   "metadata": {},
   "source": [
    "### Generate the mimic metadata, sampled_clinical_data.json"
   ]
  },
  {
   "cell_type": "markdown",
   "metadata": {},
   "source": [
    "##### REMEMBER TO CHANGE THE DIRECTORY WHEN READING THE DATA AND STORING THE DATA !!!"
   ]
  },
  {
   "cell_type": "markdown",
   "metadata": {},
   "source": [
    "Update the sample_metadata.json file from the last intake"
   ]
  },
  {
   "cell_type": "markdown",
   "metadata": {},
   "source": [
    "### Generate the metadata"
   ]
  },
  {
   "cell_type": "code",
   "execution_count": null,
   "metadata": {},
   "outputs": [],
   "source": [
    "# Start updating the sample_metadata_ori.json made by the previous intake.\n",
    "import json\n",
    "with open(r\"/home/kaop/wehi/demo_env1/sample_metadata_ori.json\") as d:\n",
    "    ori_metadata = json.load(d)\n",
    "\n",
    "\n",
    "for i in range(len(ori_metadata)):\n",
    "    if 'ICGC' in ori_metadata[i]['Sample ID']:\n",
    "        ori_metadata[i]['Sample ID'] = 'LC_Sample' + str(i + 1)\n",
    "\n",
    "with open(r\"/home/kaop/wehi/demo_env1/sample_metadata.json\", \"w\") as d:\n",
    "    json.dump(ori_metadata, d, indent = 3)\n"
   ]
  },
  {
   "cell_type": "code",
   "execution_count": null,
   "metadata": {},
   "outputs": [],
   "source": [
    "# Expand the sample size from 100 to 500, and no.of patients remain the same.\n",
    "import json\n",
    "import random\n",
    "import copy\n",
    "with open(r\"/home/kaop/wehi/demo_env1/sample_metadata.json\") as d:\n",
    "    ori_metadata = json.load(d)\n",
    "\n",
    "# create list for both sample_ids and patienet_ids\n",
    "sample_ids = []; patient_ids = []\n",
    "for i in range(len(ori_metadata)):\n",
    "    sample_ids.append(ori_metadata[i]['Sample ID'])\n",
    "    patient_ids.append(ori_metadata[i]['Patient ID'])\n",
    "\n",
    "# generate new samples for each patient\n",
    "add_metadata = []\n",
    "for i in range(101, 501, 1):  # Generate the new samples from LC_Sample101 to LC_Sample500.\n",
    "    patient_belong = random.sample(patient_ids, 1)[0]\n",
    "    sample_name = 'LC_Sample' + str(i)\n",
    "    idx = ''\n",
    "    for i in range(len(ori_metadata)):\n",
    "        if ori_metadata[i]['Patient ID'] == patient_belong:\n",
    "            idx = i\n",
    "            \n",
    "    adding_metadata = copy.deepcopy(ori_metadata[idx])\n",
    "    adding_metadata['Sample ID'] = sample_name\n",
    "    adding_metadata['Number of Samples Per Patient'] += 1\n",
    "    add_metadata.append(adding_metadata)\n",
    "\n",
    "# update the original metadata\n",
    "curr_metadata = ori_metadata + add_metadata\n",
    "\n",
    "\n",
    "with open(r\"/home/kaop/wehi/demo_env1/sample_metadata.json\", \"w\") as f:\n",
    "    json.dump(curr_metadata, f, indent = 3)\n",
    "    "
   ]
  },
  {
   "cell_type": "markdown",
   "metadata": {},
   "source": [
    "### Start generating the mimic counts file"
   ]
  },
  {
   "cell_type": "code",
   "execution_count": null,
   "metadata": {},
   "outputs": [],
   "source": [
    "with open(r\"/home/kaop/wehi/demo_env1/sample_metadata.json\") as f:\n",
    "    curr_metadata = json.load(f)\n",
    "\n",
    "# generate new list for sampleID\n",
    "sample_ids = []\n",
    "for i in range(len(curr_metadata)):\n",
    "    sample_ids.append(curr_metadata[i]['Sample ID'])"
   ]
  },
  {
   "cell_type": "code",
   "execution_count": null,
   "metadata": {},
   "outputs": [],
   "source": [
    "# create a table for sampleID and Patient ID\n",
    "import pandas as pd\n",
    "import numpy as np\n",
    "cortb = pd.DataFrame(columns=['Sample ID', 'Patient ID'])\n",
    "\n",
    "\n",
    "for patient_id in patient_ids:\n",
    "    df_temp = pd.DataFrame(columns=['Sample ID', 'Patient ID'])\n",
    "    \n",
    "    sample_collects = []\n",
    "    for i in range(len(curr_metadata)):\n",
    "            if curr_metadata[i]['Patient ID'] == patient_id:\n",
    "                sample_collects.append(curr_metadata[i]['Sample ID'])\n",
    "    df_temp['Sample ID'] = sample_collects\n",
    "    df_temp['Patient ID'] = patient_id\n",
    "    cortb = pd.concat([cortb, df_temp], ignore_index=True)\n",
    "\n",
    "                  "
   ]
  },
  {
   "cell_type": "code",
   "execution_count": 35,
   "metadata": {},
   "outputs": [],
   "source": [
    "# store the cortb, which is the table with sample and their corresponding patient.\n",
    "import random\n",
    "n_genes = 100\n",
    "samples_lst = list(cortb['Sample ID'])\n",
    "\n",
    "\n",
    "# generate two datasets\n",
    "for i in range(2):\n",
    "    sampled = random.sample(samples_lst, n_genes)\n",
    "    sample_lst = [sample for sample in samples_lst if sample not in sampled]\n",
    "\n",
    "    # build mimic counts dataset\n",
    "    df = pd.DataFrame(np.round(np.random.uniform(0.0, 10.0, size = (len(sampled), n_genes)), 2))\n",
    "    df.columns = [ 'gene_' + str(i) for i in range(n_genes)]\n",
    "    df.index = sampled\n",
    "\n",
    "    # IMPORTANT!! PLEASE CHANGE THE DIRECTORY HERE TO STORE YOUR FILES\n",
    "    df.to_csv(\"/home/kaop/wehi/demo_env1/raw_files/counts_dataset\" + str(i + 1) + \".csv\")\n",
    "\n",
    "# creating mapping table\n",
    "with open(r\"/home/kaop/wehi/demo_env1/sample_to_patient.json\", 'w') as f:\n",
    "    json.dump(cortb.set_index('Sample ID')['Patient ID'].to_dict(), f, indent=3)\n"
   ]
  },
  {
   "cell_type": "code",
   "execution_count": 41,
   "metadata": {},
   "outputs": [],
   "source": []
  },
  {
   "cell_type": "code",
   "execution_count": null,
   "metadata": {},
   "outputs": [],
   "source": []
  },
  {
   "cell_type": "code",
   "execution_count": null,
   "metadata": {},
   "outputs": [],
   "source": []
  },
  {
   "cell_type": "code",
   "execution_count": null,
   "metadata": {},
   "outputs": [],
   "source": []
  },
  {
   "cell_type": "code",
   "execution_count": null,
   "metadata": {},
   "outputs": [],
   "source": []
  },
  {
   "cell_type": "code",
   "execution_count": null,
   "metadata": {},
   "outputs": [],
   "source": []
  },
  {
   "cell_type": "code",
   "execution_count": 49,
   "metadata": {},
   "outputs": [],
   "source": []
  }
 ],
 "metadata": {
  "kernelspec": {
   "display_name": "Python 3",
   "language": "python",
   "name": "python3"
  },
  "language_info": {
   "codemirror_mode": {
    "name": "ipython",
    "version": 3
   },
   "file_extension": ".py",
   "mimetype": "text/x-python",
   "name": "python",
   "nbconvert_exporter": "python",
   "pygments_lexer": "ipython3",
   "version": "3.9.18"
  }
 },
 "nbformat": 4,
 "nbformat_minor": 2
}
